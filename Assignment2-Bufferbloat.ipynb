{
 "cells": [
  {
   "cell_type": "markdown",
   "metadata": {},
   "source": [
    "# Assignment 2 - Bufferbloat"
   ]
  },
  {
   "cell_type": "markdown",
   "metadata": {},
   "source": [
    "## Overview\n",
    "In this assignment, you will study the dynamics of TCP, and more specifically **bufferbloat**, a problem caused by large buffers leading to poor network performance. You will use a tool called Mininet to emulate a simple network, and configure it such that it can produce the bufferbloat problem. You will collect various statistics from the network with and without bufferbloat, and use your measurement data to reason about the differences. This assignment gives you a chance to experiment with the dynamic of TCP and learn about bufferbloat. You will also learn how to use Mininet, which is a very useful simulation tool for network experiments. \n",
    "## Introduction\n",
    "### BufferBloat\n",
    "Bufferbloat is a phenomenon that happens when a switching devices is configured to use excessively large buffers, which can in turn cause high latency and packet delay variation (jitter). This can happen in a typical home network like the following:\n",
    "<img width=600 src=\"figures/home-network.png\">\n",
    "Here, the end host in the Home network is connected to the home router. The home router is then connected, via cable or DSL, to a headend router at the access Internet provider's office. By simulating and experimenting with this part of the home network in Mininet, you will learn how long router buffers can lead to poor network performance.\n",
    "### Mininet\n",
    "Mininet is a network emulator with which you can create a custom network of virtual hosts, switches, controllers, and links, all on a single linux machine. The virtual devices in the emulated network can run real programs; anything that can run on linux can run on a Mininet device too. This makes Mininet a valuable tool for fast and easy simulation of network protcols and measurements. The [Mininet website](www.mininet.org) has a lot of useful resource on how to get started with Mininet."
   ]
  },
  {
   "cell_type": "markdown",
   "metadata": {},
   "source": [
    "## Part1: Measurement\n",
    "To start, you should first create the following network using Mininet's Python API, which emulates a typical home netowrk:\n",
    "<img width=450 src=\"figures/mininet-topo.png\">\n",
    "Here h1 is your home computer that has a fast connection (1Gb/s) to your home router. The home router has a slow uplink connection (1.5Mb/s). The round-trip propagation delay, or the minimum RTT between h1 and h2 is 20ms.  The router buffer size can hold 100 full sized ethernet frames (about 150KB with an MTU of 1500 bytes). \n",
    "\n",
    "To create a custom topology in Mininet, we extend the mininet.topo.Topo class. We have already added the switch (the router) to topology for you. You need to add h1 and h2, and also the links with appropriate characteristic to create the setting specified in the image above (Note that you may need to change the constructor to pass special parameters to the topology):"
   ]
  },
  {
   "cell_type": "code",
   "execution_count": null,
   "metadata": {
    "collapsed": false
   },
   "outputs": [],
   "source": [
    "from mininet.topo import Topo\n",
    "\n",
    "class BBTopo(Topo):\n",
    "    \"Simple topology for bufferbloat experiment.\"\n",
    "\n",
    "    def __init__(self):\n",
    "        super(BBTopo, self).__init__()\n",
    "        # Here we have created a switch.  If you change its name, its\n",
    "        # interface names will change from s0-eth1 to newname-eth1.\n",
    "        self.addSwitch('s0')\n",
    "        \n",
    "        # TODO: create two hosts\n",
    "        \n",
    "        # TODO: Add links with appropriate characteristics\n",
    "        \n",
    "        return"
   ]
  },
  {
   "cell_type": "markdown",
   "metadata": {},
   "source": [
    "Next, we need a couple of helper functions to generate traffic between the two hosts. The following function starts a long-lived TCP flow which sends data from h1 to h2 using **iperf**. It receives one argument called *net*, which is an instance of mininet with a BBTopo topology that we have created above. We have written the part for the server (h2). Complete the function to also start iperf on the client (h1):"
   ]
  },
  {
   "cell_type": "code",
   "execution_count": null,
   "metadata": {
    "collapsed": true
   },
   "outputs": [],
   "source": [
    "def start_iperf(net):\n",
    "    h2 = net.getNodeByName('h2')\n",
    "    print \"Starting iperf server...\"\n",
    "    # For those who are curious about the -w 16m parameter, it ensures\n",
    "    # that the TCP flow is not receiver window limited.  If it is,\n",
    "    # there is a chance that the router buffer may not get filled up.\n",
    "    server = h2.popen(\"iperf -s -w 16m\")\n",
    "    \n",
    "    # TODO: Start the iperf client on h1.  Ensure that you create a\n",
    "    # long lived TCP flow.\n"
   ]
  },
  {
   "cell_type": "markdown",
   "metadata": {},
   "source": [
    "Next, we want to start a back-to-back ping train from h1 to h2 10 times a second and record the RTTs. Complete the following function to start the pings (*net* is an instance of mininet with a BBTopo topology): "
   ]
  },
  {
   "cell_type": "code",
   "execution_count": null,
   "metadata": {
    "collapsed": false
   },
   "outputs": [],
   "source": [
    "def start_ping(net):\n",
    "    # TODO: Start a ping train from h1 to h2 (or h2 to h1, does it\n",
    "    # matter?)  Measure RTTs every 0.1 second.  Read the ping man page\n",
    "    # to see how to do this.\n",
    "\n",
    "    # Hint: Use host.popen(cmd, shell=True).  If you pass shell=True\n",
    "    # to popen, you can redirect cmd's output using shell syntax.\n",
    "    # i.e. ping ... > /path/to/ping.\n",
    "    pass\n"
   ]
  },
  {
   "cell_type": "markdown",
   "metadata": {},
   "source": [
    "Next, we develop some helper functions to probe the congestion window of the TCP traffic. This way, we can look at the dynamic of a TCP connection. The functions are already complete, but feel free to experiment with them:"
   ]
  },
  {
   "cell_type": "code",
   "execution_count": null,
   "metadata": {
    "collapsed": true
   },
   "outputs": [],
   "source": [
    "def start_tcpprobe(outfile=\"cwnd.txt\"):\n",
    "    os.system(\"rmmod tcp_probe; modprobe tcp_probe full=1;\")\n",
    "    Popen(\"cat /proc/net/tcpprobe > %s\" % outfile,\n",
    "          shell=True)\n",
    "\n",
    "def stop_tcpprobe():\n",
    "    Popen(\"killall -9 cat\", shell=True).wait()"
   ]
  },
  {
   "cell_type": "markdown",
   "metadata": {},
   "source": [
    "Following is a helper function that monitors the queue length on a given interface and interval:"
   ]
  },
  {
   "cell_type": "code",
   "execution_count": null,
   "metadata": {
    "collapsed": true
   },
   "outputs": [],
   "source": [
    "from monitor import monitor_qlen\n",
    "\n",
    "def start_qmon(iface, interval_sec=0.1, outfile=\"q.txt\"):\n",
    "    monitor = Process(target=monitor_qlen,\n",
    "                      args=(iface, interval_sec, outfile))\n",
    "    monitor.start()\n",
    "    return monitor"
   ]
  },
  {
   "cell_type": "markdown",
   "metadata": {},
   "source": [
    "Finally, here is a helper function that starts a webserver on h1 (you will see shortly why we need the webserver):"
   ]
  },
  {
   "cell_type": "code",
   "execution_count": null,
   "metadata": {
    "collapsed": true
   },
   "outputs": [],
   "source": [
    "from time import sleep\n",
    "\n",
    "def start_webserver(net):\n",
    "    h1 = net.getNodeByName('h1')\n",
    "    proc = h1.popen(\"python http/webserver.py\", shell=True)\n",
    "    sleep(1)\n",
    "    return [proc]"
   ]
  },
  {
   "cell_type": "markdown",
   "metadata": {},
   "source": [
    "Now, we need to put together all the pieces to create the network, start all the traffic, and make the measurements. More specifically, the *bufferbloat* function should:\n",
    "* create a *BBTopo*\n",
    "* start the TCP and queue monitors\n",
    "* start a long-lived TCP flow using iperf\n",
    "* start the ping train\n",
    "* start the webserver\n",
    "* Periodically download the index.html web page from h1 and measure how long it takes to fetch it \n",
    "\n",
    "Note that the long lived flow, ping train, and webserver downloads should all be happening simultaneously. Once you have completed the assignment steps up until here, complete the *bufferbloat* function below to do all the steps described above. We highly recommand that you parametrize your code in terms of the queue length, link delay, experiment time, output directories and files, etc so that you can experiment with differnet parameters easily. You can use the *\\**kwargs* to pass in any parameter you need to the *bufferbloat* function:"
   ]
  },
  {
   "cell_type": "code",
   "execution_count": null,
   "metadata": {
    "collapsed": false
   },
   "outputs": [],
   "source": [
    "from mininet.node import CPULimitedHost, OVSController\n",
    "from mininet.link import TCLink\n",
    "from mininet.net import Mininet\n",
    "from mininet.log import lg, info\n",
    "from mininet.util import dumpNodeConnections\n",
    "\n",
    "from time import time\n",
    "import os\n",
    "from subprocess import call\n",
    "\n",
    "def bufferbloat(**kwargs):\n",
    "    # Linux uses CUBIC-TCP by default that doesn't have the usual sawtooth\n",
    "    # behaviour.  For those who are curious, replace reno with cubic\n",
    "    # see what happens...\n",
    "    # sysctl -a | grep cong should list some interesting parameters.\n",
    "    os.system(\"sysctl -w net.ipv4.tcp_congestion_control=reno\")\n",
    "    \n",
    "    # create the topology and network\n",
    "    topo = BBTopo()\n",
    "    net = Mininet(topo=topo, host=CPULimitedHost, link=TCLink, \n",
    "                  controller= OVSController)\n",
    "    net.start()\n",
    "\n",
    "    # This dumps the topology and how nodes are interconnected through\n",
    "    # links.\n",
    "    dumpNodeConnections(net.hosts)\n",
    "    \n",
    "    # This performs a basic all pairs ping test.\n",
    "    net.pingAll()\n",
    "    \n",
    "    # Start all the monitoring processes\n",
    "    start_tcpprobe(\"cwnd.txt\")\n",
    "\n",
    "    # TODO: Start monitoring the queue sizes.  Since the switch I\n",
    "    # created is \"s0\", I monitor one of the interfaces.  Which\n",
    "    # interface?  The interface numbering starts with 1 and increases.\n",
    "    # Depending on the order you add links to your network, this\n",
    "    # number may be 1 or 2.  Ensure you use the correct number.\n",
    "    # qmon = start_qmon(...)\n",
    "\n",
    "    # TODO: Start iperf, pings, and the webserver.\n",
    "    # start_iperf(net), ...\n",
    "\n",
    "    # TODO: measure the time it takes to complete webpage transfer\n",
    "    # from h1 to h2 (say) 4-5 times.  Hint: check what the following\n",
    "    # command does: curl -o /dev/null -s -w %{time_total} google.com\n",
    "    # Now use the curl command to fetch webpage from the webserver you\n",
    "    # spawned on host h1 (not from google!)\n",
    "\n",
    "    # Hint: have a separate function to do this and you may find the\n",
    "    # loop below useful.\n",
    "    exp_time = kwargs['experiment_time']\n",
    "    start_time = time()\n",
    "    while True:\n",
    "        # do the measurement (say) 3 times.\n",
    "        sleep(5)\n",
    "        now = time()\n",
    "        delta = now - start_time\n",
    "        if delta > exp_time:\n",
    "            break\n",
    "        print \"%.1fs left...\" % (exp_time - delta)\n",
    "\n",
    "    # TODO: compute average (and standard deviation) of the fetch\n",
    "    # times.  You don't need to plot them.  Just print them\n",
    "    # here and explain your observations in the Questions part\n",
    "    # in Part 2, where you analyze your measurements.\n",
    "\n",
    "    # Stop probing \n",
    "    stop_tcpprobe()\n",
    "    qmon.terminate()\n",
    "    net.stop()\n",
    "    \n",
    "    # TODO: Ensure that all processes you create within Mininet are killed.\n",
    "    # Sometimes they require manual killing.\n",
    "    Popen(\"pgrep -f webserver.py | xargs kill -9\", shell=True).wait()"
   ]
  },
  {
   "cell_type": "markdown",
   "metadata": {},
   "source": [
    "Once you have completed all the steps above, use your *bufferbloat* function to run the experiment, once with queue size of a 100 packets and then queue size of 20 packets. Make sure to run the experiments long enough (on the order of a few minutes) to see the dynamics of TCP, like the sawtooth behavior, in your results.\n",
    "\n",
    "**When testing and experimenting with your code, make sure to kill all the process you are creating within mininet manually if your code ran into exceptions and did not do the clean up for you. Moreover, if mininet was not exited normally, make sure to do the clean up for mininet too.** This can be done using \"mn -c\" executed as root. "
   ]
  },
  {
   "cell_type": "code",
   "execution_count": null,
   "metadata": {
    "collapsed": true
   },
   "outputs": [],
   "source": [
    "# TODO: run the experiments once with queue size of 100 packets, and once with 20.\n",
    "call([\"mn\", \"-c\"])\n",
    "# bufferbloat(appropriate arguments)\n",
    "# bufferbloat(appropriate arguments)"
   ]
  },
  {
   "cell_type": "markdown",
   "metadata": {},
   "source": [
    "## Part2: Analysis"
   ]
  },
  {
   "cell_type": "markdown",
   "metadata": {},
   "source": [
    "In this part of the assignment, you should first analyze your measurements with different queue sizes by plotting the variations in congestion window, queue length, and ping RTT versus time. Then, you should try to answer some questions about TCP and bufferbloat using your observations and the plots.\n",
    "### Congestion Window\n",
    "The following script contains functions for plotting the congestion window measurements. The *plot_congestion_window* takes in the file containing the outputs of tcpprobe from your experiment and makes a plot."
   ]
  },
  {
   "cell_type": "code",
   "execution_count": null,
   "metadata": {
    "collapsed": false
   },
   "outputs": [],
   "source": [
    "%matplotlib inline\n",
    "\n",
    "from helper import *\n",
    "from collections import defaultdict\n",
    "\n",
    "IPERF_PORT = '5001'\n",
    "\n",
    "def first(lst):\n",
    "    return map(lambda e: e[0], lst)\n",
    "\n",
    "def second(lst):\n",
    "    return map(lambda e: e[1], lst)\n",
    "\n",
    "\"\"\"\n",
    "Sample line:\n",
    "2.221032535 10.0.0.2:39815 10.0.0.1:5001 32 0x1a2a710c 0x1a2a387c 11 2147483647 14592 85\n",
    "\"\"\"\n",
    "def parse_file(f):\n",
    "    times = defaultdict(list)\n",
    "    cwnd = defaultdict(list)\n",
    "    srtt = []\n",
    "    for l in open(f).xreadlines():\n",
    "        fields = l.strip().split(' ')\n",
    "        if len(fields) != 11:\n",
    "            break\n",
    "        if fields[2].split(':')[1] != IPERF_PORT:\n",
    "            continue\n",
    "        sport = int(fields[1].split(':')[1])\n",
    "        times[sport].append(float(fields[0]))\n",
    "\n",
    "        c = int(fields[6])\n",
    "        cwnd[sport].append(c * 1480 / 1024.0)\n",
    "        srtt.append(int(fields[-1]))\n",
    "    return times, cwnd\n",
    "\n",
    "\n",
    "def plot_cwnds(ax, f, events):\n",
    "    times, cwnds = parse_file(f)\n",
    "    for port in sorted(cwnds.keys()):\n",
    "        t = times[port]\n",
    "        cwnd = cwnds[port]\n",
    "\n",
    "        events += zip(t, [port]*len(t), cwnd)\n",
    "        ax.plot(t, cwnd)\n",
    "\n",
    "    events.sort()\n",
    "\n",
    "def plot_congestion_window(filename, histogram=False):    \n",
    "    added = defaultdict(int)\n",
    "    events = []\n",
    "    total_cwnd = 0\n",
    "    cwnd_time = []\n",
    "\n",
    "    min_total_cwnd = 10**10\n",
    "    max_total_cwnd = 0\n",
    "    totalcwnds = []\n",
    "\n",
    "    m.rc('figure', figsize=(16, 6))\n",
    "    fig = plt.figure()\n",
    "    plots = 1\n",
    "    if histogram:\n",
    "        plots = 2\n",
    "\n",
    "    axPlot = fig.add_subplot(1, plots, 1)\n",
    "    plot_cwnds(axPlot, filename, events)\n",
    "\n",
    "    for (t,p,c) in events:\n",
    "        if added[p]:\n",
    "            total_cwnd -= added[p]\n",
    "        total_cwnd += c\n",
    "        cwnd_time.append((t, total_cwnd))\n",
    "        added[p] = c\n",
    "        totalcwnds.append(total_cwnd)\n",
    "\n",
    "    axPlot.plot(first(cwnd_time), second(cwnd_time), lw=2, label=\"$\\sum_i W_i$\")\n",
    "    axPlot.grid(True)\n",
    "    #axPlot.legend()\n",
    "    axPlot.set_xlabel(\"seconds\")\n",
    "    axPlot.set_ylabel(\"cwnd KB\")\n",
    "    axPlot.set_title(\"TCP congestion window (cwnd) timeseries\")\n",
    "\n",
    "    if histogram:\n",
    "        axHist = fig.add_subplot(1, 2, 2)\n",
    "        n, bins, patches = axHist.hist(totalcwnds, 50, normed=1, facecolor='green', alpha=0.75)\n",
    "\n",
    "        axHist.set_xlabel(\"bins (KB)\")\n",
    "        axHist.set_ylabel(\"Fraction\")\n",
    "        axHist.set_title(\"Histogram of sum(cwnd_i)\")\n",
    "\n",
    "    plt.show()"
   ]
  },
  {
   "cell_type": "markdown",
   "metadata": {
    "collapsed": true
   },
   "source": [
    "Use the above function to create the congestion window plot for queue size of 100 packets:"
   ]
  },
  {
   "cell_type": "code",
   "execution_count": null,
   "metadata": {
    "collapsed": false
   },
   "outputs": [],
   "source": [
    "# TODO: call the plot function with the correct file name\n",
    "#plot_congestion_window(cwnd_file_path)"
   ]
  },
  {
   "cell_type": "markdown",
   "metadata": {},
   "source": [
    "Use the above function to create the congestion window plot for queue size of 20 packets:"
   ]
  },
  {
   "cell_type": "code",
   "execution_count": null,
   "metadata": {
    "collapsed": false
   },
   "outputs": [],
   "source": [
    "# TODO: call the plot function with the correct file name\n",
    "# plot_congestion_window(cwnd_file_path)"
   ]
  },
  {
   "cell_type": "markdown",
   "metadata": {},
   "source": [
    "### Queue Length\n",
    "The following script contains functions for plotting the queue length measurements. The *plot_queue_length* takes in the file containing the outputs of queue monitoring from your experiment and makes a plot."
   ]
  },
  {
   "cell_type": "code",
   "execution_count": null,
   "metadata": {
    "collapsed": false
   },
   "outputs": [],
   "source": [
    "%matplotlib inline\n",
    "\n",
    "import plot_defaults\n",
    "from matplotlib.ticker import MaxNLocator\n",
    "from pylab import figure\n",
    "\n",
    "def plot_queue_length(f):\n",
    "    to_plot=[]\n",
    "    m.rc('figure', figsize=(16, 6))\n",
    "    fig = figure()\n",
    "    ax = fig.add_subplot(111)\n",
    "    \n",
    "    data = read_list(f)\n",
    "    xaxis = map(float, col(0, data))\n",
    "    start_time = xaxis[0]\n",
    "    xaxis = map(lambda x: x - start_time, xaxis)\n",
    "    qlens = map(float, col(1, data))\n",
    "\n",
    "    xaxis = xaxis[::1]\n",
    "    qlens = qlens[::1]\n",
    "    ax.plot(xaxis, qlens, lw=2, color = 'red')\n",
    "    ax.xaxis.set_major_locator(MaxNLocator(4))\n",
    "\n",
    "    plt.ylabel(\"Packets\")\n",
    "    plt.grid(True)\n",
    "    plt.xlabel(\"Seconds\")\n",
    "\n",
    "    plt.show()"
   ]
  },
  {
   "cell_type": "markdown",
   "metadata": {},
   "source": [
    "Use the above function to create the queue length plot for queue size of 100 packets:"
   ]
  },
  {
   "cell_type": "code",
   "execution_count": null,
   "metadata": {
    "collapsed": false
   },
   "outputs": [],
   "source": [
    "# TODO: call the plot function with the correct file name\n",
    "# plot_queue_length(qlen_file_path)"
   ]
  },
  {
   "cell_type": "markdown",
   "metadata": {},
   "source": [
    "Use the above function to create the queue length plot for queue size of 20 packets:"
   ]
  },
  {
   "cell_type": "code",
   "execution_count": null,
   "metadata": {
    "collapsed": false
   },
   "outputs": [],
   "source": [
    "# TODO: call the plot function with the correct file name\n",
    "# plot_queue_length(qlen_file_path)"
   ]
  },
  {
   "cell_type": "markdown",
   "metadata": {},
   "source": [
    "### Ping RTT\n",
    "The following script contains functions for plotting the ping RTT measurements. The *plot_ping_rtt* takes in the file containing the outputs of the pings from your experiment, as well as the number of pings you initiated per second, and makes a plot."
   ]
  },
  {
   "cell_type": "code",
   "execution_count": null,
   "metadata": {
    "collapsed": false
   },
   "outputs": [],
   "source": [
    "%matplotlib inline\n",
    "\n",
    "def parse_ping(fname):\n",
    "    ret = []\n",
    "    lines = open(fname).readlines()\n",
    "    num = 0\n",
    "    for line in lines:\n",
    "        if 'bytes from' not in line:\n",
    "            continue\n",
    "        try:\n",
    "            rtt = line.split(' ')[-2]\n",
    "            rtt = rtt.split('=')[1]\n",
    "            rtt = float(rtt)\n",
    "            ret.append([num, rtt])\n",
    "            num += 1\n",
    "        except:\n",
    "            break\n",
    "    return ret\n",
    "\n",
    "def plot_ping_rtt(f, freq=10):\n",
    "    m.rc('figure', figsize=(16, 6))\n",
    "    fig = figure()\n",
    "    ax = fig.add_subplot(111)\n",
    "    \n",
    "    data = parse_ping(f)\n",
    "    xaxis = map(float, col(0, data))\n",
    "    start_time = xaxis[0]\n",
    "    xaxis = map(lambda x: (x - start_time) / freq, xaxis)\n",
    "    qlens = map(float, col(1, data))\n",
    "\n",
    "    ax.plot(xaxis, qlens, lw=2)\n",
    "    ax.xaxis.set_major_locator(MaxNLocator(4))\n",
    "\n",
    "    plt.ylabel(\"RTT (ms)\")\n",
    "    plt.grid(True)\n",
    "\n",
    "    plt.show()"
   ]
  },
  {
   "cell_type": "markdown",
   "metadata": {},
   "source": [
    "Use the above function to create the ping RTT plot for queue size of 100 packets:"
   ]
  },
  {
   "cell_type": "code",
   "execution_count": null,
   "metadata": {
    "collapsed": false
   },
   "outputs": [],
   "source": [
    "# TODO: call the plot function with the correct file name\n",
    "# plot_ping_rtt(pings_file_path)"
   ]
  },
  {
   "cell_type": "markdown",
   "metadata": {},
   "source": [
    "Use the above function to create the ping RTT plot for queue size of 20 packets:"
   ]
  },
  {
   "cell_type": "code",
   "execution_count": null,
   "metadata": {
    "collapsed": false
   },
   "outputs": [],
   "source": [
    "# TODO: call the plot function with the correct file name\n",
    "# plot_ping_rtt(qlen_file_path)"
   ]
  },
  {
   "cell_type": "markdown",
   "metadata": {},
   "source": [
    "### Questions\n",
    "Answer the following questions based on your observations (plots and measurement statistics) from the experiments:"
   ]
  },
  {
   "cell_type": "markdown",
   "metadata": {},
   "source": [
    "* Why do you see a difference in webpage fetch times with short and large router buffers?"
   ]
  },
  {
   "cell_type": "markdown",
   "metadata": {},
   "source": [
    "Answer:"
   ]
  },
  {
   "cell_type": "markdown",
   "metadata": {},
   "source": [
    "* Bufferbloat can occur in other places such as your network interface card (NIC).  Check the output of *ifconfig eth0* on the VM.  What is the (maximum) transmit queue length on the network interface reported by ifconfig?  For this queue size, if you assume the queue drains at 100Mb/s, what is the maximum time a packet might wait in the queue before it leaves the NIC?"
   ]
  },
  {
   "cell_type": "code",
   "execution_count": null,
   "metadata": {
    "collapsed": false
   },
   "outputs": [],
   "source": [
    "! ifconfig eth0"
   ]
  },
  {
   "cell_type": "markdown",
   "metadata": {},
   "source": [
    "Answer:"
   ]
  },
  {
   "cell_type": "markdown",
   "metadata": {},
   "source": [
    "* How does the RTT reported by ping vary with the queue size?  Write a symbolic equation to describe the relation between the two (ignore computation overheads in ping that might affect the final result)."
   ]
  },
  {
   "cell_type": "markdown",
   "metadata": {},
   "source": [
    "Answer:"
   ]
  },
  {
   "cell_type": "markdown",
   "metadata": {},
   "source": [
    "* Identify and describe two ways to mitigate the bufferbloat problem."
   ]
  },
  {
   "cell_type": "markdown",
   "metadata": {},
   "source": [
    "Answer:"
   ]
  },
  {
   "cell_type": "markdown",
   "metadata": {},
   "source": [
    "## Acknowledgement \n",
    "This assignment is modeled after a [similar assignment](http://web.stanford.edu/class/cs244/pa1.html) in Stanford university."
   ]
  }
 ],
 "metadata": {
  "kernelspec": {
   "display_name": "Python 2",
   "language": "python",
   "name": "python2"
  },
  "language_info": {
   "codemirror_mode": {
    "name": "ipython",
    "version": 2
   },
   "file_extension": ".py",
   "mimetype": "text/x-python",
   "name": "python",
   "nbconvert_exporter": "python",
   "pygments_lexer": "ipython2",
   "version": "2.7.6"
  }
 },
 "nbformat": 4,
 "nbformat_minor": 0
}
